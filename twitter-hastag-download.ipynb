{
 "cells": [
  {
   "cell_type": "code",
   "execution_count": 1,
   "metadata": {},
   "outputs": [],
   "source": [
    "from textblob import TextBlob\n",
    "import sys, tweepy\n",
    "import matplotlib.pyplot as plt\n"
   ]
  },
  {
   "cell_type": "code",
   "execution_count": 2,
   "metadata": {},
   "outputs": [],
   "source": [
    "def percentage(part, whole):\n",
    "    return 100*float(part)/float(whole)\n"
   ]
  },
  {
   "cell_type": "code",
   "execution_count": 3,
   "metadata": {},
   "outputs": [],
   "source": [
    "#credentials masked --\n",
    "#register and get yours form apps.twitter.com -\n",
    "#-will take 5 min to fill the forms and wait for confirmation email from twitter with the below\n",
    "consumerKey=\"pxDE\"\n",
    "consumerSecret=\"zi7u\"\n",
    "accessToken=\"4U4D\"\n",
    "accessTokenSecret=\"PmyEvK\""
   ]
  },
  {
   "cell_type": "code",
   "execution_count": 4,
   "metadata": {},
   "outputs": [],
   "source": [
    "auth=tweepy.OAuthHandler(consumer_key=consumerKey, consumer_secret=consumerSecret)\n",
    "auth.set_access_token(accessToken,accessTokenSecret)\n",
    "api=tweepy.API(auth)"
   ]
  },
  {
   "cell_type": "code",
   "execution_count": 9,
   "metadata": {},
   "outputs": [
    {
     "name": "stdout",
     "output_type": "stream",
     "text": [
      "Enter Keyword/hastag to search about:ICC\n",
      "Enter how many tweets to analyse: 20\n",
      "Pakistan captain Sarfaraz Ahmed allegedly accused ICC of helping India in World Cup https://t.co/xTTXs2y9aH\n",
      "\n",
      "\"Nach… https://t.co/GD5bkAehqS\n",
      "The #Gbagbo acquittal and the battle for the #ICC’s legitimacy https://t.co/D3ZHYw0KzP\n",
      "Fans mock ICC with funny tweets as the weather continues to play spoilsport in World Cup\n",
      "Read More -… https://t.co/yNPPj6VTLR\n",
      "Chennai gears up to break a Guinness World Record\n",
      "Read More - https://t.co/2wbwhgYe9w\n",
      "@phoenixmall @WestinChennai… https://t.co/DZVeihfbNV\n",
      "World Cup: India Probable Playing XI, New Zealand Probable Playing XI\n",
      "Read More - https://t.co/EjMXPMEy3R\n",
      "@ICC… https://t.co/2Qwr7nnRvo\n",
      "Rishabh Pant or Shreyas Iyer likely to replace injured Shikhar Dhawan\n",
      "Read More - https://t.co/BQRskKMuyv… https://t.co/gyiYSjI318\n",
      "Injured Shikhar Dhawan ruled out of World Cup 2019 for 3 weeks\n",
      "Read More - https://t.co/eS2tV9tKg0\n",
      "@SDhawan25… https://t.co/pJKhxV5AEi\n",
      "9.21590909090909\n",
      "Positive\n"
     ]
    },
    {
     "data": {
      "image/png": "[encoded data removed]",
      "text/plain": [
       "<Figure size 432x288 with 1 Axes>"
      ]
     },
     "metadata": {},
     "output_type": "display_data"
    }
   ],
   "source": [
    "searchTerm=str(input(\"Enter Keyword/hastag to search about:\"))\n",
    "noOfSearchTerms=int(input(\"Enter how many tweets to analyse: \"))\n",
    "tweets=tweepy.Cursor(api.search, q=searchTerm, lang=\"English\").items(noOfSearchTerms)\n",
    "positive=0\n",
    "negative=0\n",
    "neutral=0\n",
    "polarity=0\n",
    "for tweet in tweets:\n",
    "    print(tweet.text)\n",
    "    analysis=TextBlob(tweet.text)\n",
    "    polarity+=analysis.sentiment.polarity\n",
    "    if(analysis.sentiment.polarity ==0):\n",
    "        neutral+=1\n",
    "    elif(analysis.sentiment.polarity <0.00):\n",
    "        negative+=1\n",
    "    elif(analysis.sentiment.polarity >0.00):\n",
    "        positive+=1\n",
    "positive = percentage(positive, noOfSearchTerms)\n",
    "neutral = percentage(neutral, noOfSearchTerms)\n",
    "negative = percentage(negative, noOfSearchTerms)\n",
    "polarity=percentage(polarity,noOfSearchTerms)\n",
    "print(polarity)\n",
    "\n",
    "positive=format(positive,'.2f')\n",
    "neutral=format(neutral,'.2f')\n",
    "negative=format(negative,'.2f')\n",
    "\n",
    "if(polarity==0):\n",
    "    print(\"Neutral\")\n",
    "elif(polarity <0.00):\n",
    "    print(\"Negative\")\n",
    "elif(polarity >0.00):\n",
    "    print(\"Positive\")\n",
    "    \n",
    "labels = ['Positive ['+str(positive)+'%]', 'Neutral ['+str(neutral)+'%]',  'Negative ['+str(negative)+'%]']\n",
    "sizes =[positive, neutral, negative]\n",
    "colors=['yellowgreen','gold','red']\n",
    "patches, texts=plt.pie(sizes,colors=colors, startangle=90)\n",
    "plt.legend(patches,labels,loc=\"best\")\n",
    "plt.title(\"how people are reacting on \" + searchTerm + \" by analysing \" + str(noOfSearchTerms)+ \" Tweets.\")\n",
    "plt.axis('equal')      \n",
    "plt.tight_layout()  \n",
    "plt.show()         "
   ]
  },
  {
   "cell_type": "code",
   "execution_count": null,
   "metadata": {},
   "outputs": [],
   "source": []
  }
 ],
 "metadata": {
  "kernelspec": {
   "display_name": "Python 3",
   "language": "python",
   "name": "python3"
  },
  "language_info": {
   "codemirror_mode": {
    "name": "ipython",
    "version": 3
   },
   "file_extension": ".py",
   "mimetype": "text/x-python",
   "name": "python",
   "nbconvert_exporter": "python",
   "pygments_lexer": "ipython3",
   "version": "3.7.1"
  }
 },
 "nbformat": 4,
 "nbformat_minor": 2
}
